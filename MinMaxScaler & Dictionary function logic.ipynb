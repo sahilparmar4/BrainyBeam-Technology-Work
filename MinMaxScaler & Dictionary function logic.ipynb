{
 "cells": [
  {
   "cell_type": "code",
   "execution_count": 1,
   "metadata": {},
   "outputs": [
    {
     "name": "stdout",
     "output_type": "stream",
     "text": [
      "MinMaxScaler()\n",
      "[[0.   0.  ]\n",
      " [0.25 0.25]\n",
      " [0.5  0.5 ]\n",
      " [1.   1.  ]]\n"
     ]
    }
   ],
   "source": [
    "from sklearn.preprocessing import MinMaxScaler\n",
    "data = [[-1, 2], [-0.5, 6], [0, 10], [1, 18]]\n",
    "scaler = MinMaxScaler()\n",
    "print(scaler.fit(data))\n",
    "print(scaler.transform(data))"
   ]
  },
  {
   "cell_type": "code",
   "execution_count": 1,
   "metadata": {},
   "outputs": [],
   "source": [
    "class_dict = {\"1\": [-5.0, -4.75, -4.5, 4.25, -4, -3.75, -3.5, -3.25],\n",
    "       \"2\": [-3, -2.75, -2.5, -2.25, -2, -1.75, -1.5, -1.25],\n",
    "       \"3\": [-1, -0.75, -0.5, -0.25, 0, 0.25, 0.5, 0.75],\n",
    "       \"4\":[1, 1.25, 1.5, 1.75, 2, 2.25, 2.5, 2.75],\n",
    "       \"5\": [3, 3.25, 3.5, 3.75, 4, 4.25, 4.5, 4.75, 5]}"
   ]
  },
  {
   "cell_type": "code",
   "execution_count": 28,
   "metadata": {},
   "outputs": [
    {
     "name": "stdout",
     "output_type": "stream",
     "text": [
      "['1', '2', '3', '4', '5']\n",
      "[[-5.0, -4.75, -4.5, 4.25, -4, -3.75, -3.5, -3.25, -3], [-3, -2.75, -2.5, -2.25, -2, -1.75, -1.5, -1.25, -1], [-1, -0.75, -0.5, -0.25, 0, 0.25, 0.5, 0.75, 1], [1, 1.25, 1.5, 1.75, 2, 2.25, 2.5, 2.75, 3], [3, 3.25, 3.5, 3.75, 4, 4.25, 4.5, 4.75, 5]]\n"
     ]
    }
   ],
   "source": [
    "key_list = list(class_dict.keys())\n",
    "value_list = list(class_dict.values())\n",
    "print(key_list)\n",
    "print(value_list)"
   ]
  },
  {
   "cell_type": "code",
   "execution_count": 30,
   "metadata": {},
   "outputs": [
    {
     "name": "stdout",
     "output_type": "stream",
     "text": [
      "Enter a value: -5.0\n",
      "Not Present\n"
     ]
    }
   ],
   "source": [
    "var = float(input(\"Enter a value: \"))\n",
    "if var in value_list:\n",
    "    print(key_list[value_list.index(int(var))])\n",
    "else:\n",
    "    print(\"Not Present\")"
   ]
  },
  {
   "cell_type": "code",
   "execution_count": 23,
   "metadata": {},
   "outputs": [
    {
     "name": "stdout",
     "output_type": "stream",
     "text": [
      "[-5.25, -4.5, -3.75, -3.0, -2.25, -1.5, -0.75, -0.0, 0.0, 0.0, 0, 0.0, 0, 0, 0, 0, 0, 0, 0, 0.25, 0.25, 0.5, 0.5, 0.5, 0.75, 0.75, 1.0, 1.0, 1.0, 1.25, 1.25, 1.5, 1.5, 1.5, 1.75, 1.75, 2.0, 2.5, 3.0, 3.5]\n",
      "19\n",
      "[-0.75, -0.0, 0.25, 0.5, 0.75, 1.0, 1.25, 1.5, 1.75, 2.0, 2.5, 3.0, 3.5, -3.0, -5.25, -4.5, -3.75, -2.25, -1.5]\n"
     ]
    }
   ],
   "source": [
    "lst = [-1, -0.75, 0.5, 0.25, 0, 0.25, 0.5, 0.75, 1]\n",
    "temp = []\n",
    "for i in range(8):\n",
    "    for j in range(1, 6):\n",
    "        temp.append(lst[j]*i)\n",
    "temp.sort()\n",
    "print(temp)\n",
    "s1 = set(temp)\n",
    "print(len(s1))\n",
    "lst1 = list(s1)\n",
    "print(lst1)"
   ]
  },
  {
   "cell_type": "code",
   "execution_count": 8,
   "metadata": {},
   "outputs": [
    {
     "data": {
      "text/plain": [
       "40"
      ]
     },
     "execution_count": 8,
     "metadata": {},
     "output_type": "execute_result"
    }
   ],
   "source": [
    "len(temp)"
   ]
  },
  {
   "cell_type": "code",
   "execution_count": 13,
   "metadata": {},
   "outputs": [
    {
     "name": "stdout",
     "output_type": "stream",
     "text": [
      "None\n"
     ]
    }
   ],
   "source": []
  },
  {
   "cell_type": "code",
   "execution_count": 4,
   "metadata": {},
   "outputs": [
    {
     "data": {
      "text/plain": [
       "'1'"
      ]
     },
     "execution_count": 4,
     "metadata": {},
     "output_type": "execute_result"
    }
   ],
   "source": [
    "def fun(val):\n",
    "    for i in class_dict:\n",
    "        for j in class_dict[i]:\n",
    "            if val == j:\n",
    "                return i\n",
    "            if val <= j:\n",
    "                return i\n",
    "\n",
    "fun(-5)"
   ]
  },
  {
   "cell_type": "code",
   "execution_count": 5,
   "metadata": {},
   "outputs": [
    {
     "data": {
      "text/plain": [
       "'1'"
      ]
     },
     "execution_count": 5,
     "metadata": {},
     "output_type": "execute_result"
    }
   ],
   "source": [
    "fun(-4.76)"
   ]
  },
  {
   "cell_type": "code",
   "execution_count": null,
   "metadata": {},
   "outputs": [],
   "source": []
  }
 ],
 "metadata": {
  "kernelspec": {
   "display_name": "Python 3",
   "language": "python",
   "name": "python3"
  },
  "language_info": {
   "codemirror_mode": {
    "name": "ipython",
    "version": 3
   },
   "file_extension": ".py",
   "mimetype": "text/x-python",
   "name": "python",
   "nbconvert_exporter": "python",
   "pygments_lexer": "ipython3",
   "version": "3.8.5"
  }
 },
 "nbformat": 4,
 "nbformat_minor": 4
}

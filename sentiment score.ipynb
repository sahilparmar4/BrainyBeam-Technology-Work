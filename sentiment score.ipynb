{
 "cells": [
  {
   "cell_type": "code",
   "execution_count": 1,
   "metadata": {},
   "outputs": [
    {
     "data": {
      "text/html": [
       "<div>\n",
       "<style scoped>\n",
       "    .dataframe tbody tr th:only-of-type {\n",
       "        vertical-align: middle;\n",
       "    }\n",
       "\n",
       "    .dataframe tbody tr th {\n",
       "        vertical-align: top;\n",
       "    }\n",
       "\n",
       "    .dataframe thead th {\n",
       "        text-align: right;\n",
       "    }\n",
       "</style>\n",
       "<table border=\"1\" class=\"dataframe\">\n",
       "  <thead>\n",
       "    <tr style=\"text-align: right;\">\n",
       "      <th></th>\n",
       "      <th>ProductID</th>\n",
       "      <th>UserID</th>\n",
       "      <th>Rating</th>\n",
       "      <th>Text</th>\n",
       "    </tr>\n",
       "  </thead>\n",
       "  <tbody>\n",
       "    <tr>\n",
       "      <th>0</th>\n",
       "      <td>777</td>\n",
       "      <td>AV1YnR7wglJLPUi8IJmi</td>\n",
       "      <td>4</td>\n",
       "      <td>Great taffy at a great price.</td>\n",
       "    </tr>\n",
       "    <tr>\n",
       "      <th>1</th>\n",
       "      <td>767</td>\n",
       "      <td>AVpfpK8KLJeJML43BCuD</td>\n",
       "      <td>4</td>\n",
       "      <td>Absolutely wonderful - silky and sexy and comf...</td>\n",
       "    </tr>\n",
       "    <tr>\n",
       "      <th>2</th>\n",
       "      <td>1080</td>\n",
       "      <td>AVqkIdntQMlgsOJE6fuB</td>\n",
       "      <td>5</td>\n",
       "      <td>Love this dress! it's sooo pretty.</td>\n",
       "    </tr>\n",
       "    <tr>\n",
       "      <th>3</th>\n",
       "      <td>1077</td>\n",
       "      <td>AVpfpK8KLJeJML43BCuD</td>\n",
       "      <td>3</td>\n",
       "      <td>I had such high hopes for this dress and reall...</td>\n",
       "    </tr>\n",
       "    <tr>\n",
       "      <th>4</th>\n",
       "      <td>1049</td>\n",
       "      <td>AVpfpK8KLJeJML43BCuD</td>\n",
       "      <td>5</td>\n",
       "      <td>I love, love, love this jumpsuit. it's fun, fl...</td>\n",
       "    </tr>\n",
       "  </tbody>\n",
       "</table>\n",
       "</div>"
      ],
      "text/plain": [
       "   ProductID                UserID  Rating  \\\n",
       "0        777  AV1YnR7wglJLPUi8IJmi       4   \n",
       "1        767  AVpfpK8KLJeJML43BCuD       4   \n",
       "2       1080  AVqkIdntQMlgsOJE6fuB       5   \n",
       "3       1077  AVpfpK8KLJeJML43BCuD       3   \n",
       "4       1049  AVpfpK8KLJeJML43BCuD       5   \n",
       "\n",
       "                                                Text  \n",
       "0                      Great taffy at a great price.  \n",
       "1  Absolutely wonderful - silky and sexy and comf...  \n",
       "2                 Love this dress! it's sooo pretty.  \n",
       "3  I had such high hopes for this dress and reall...  \n",
       "4  I love, love, love this jumpsuit. it's fun, fl...  "
      ]
     },
     "execution_count": 1,
     "metadata": {},
     "output_type": "execute_result"
    }
   ],
   "source": [
    "import pandas as pd\n",
    "\n",
    "rating = pd.read_csv(r\"C:\\Users\\hp\\Downloads\\cloths-rating.csv\")\n",
    "rating.head()"
   ]
  },
  {
   "cell_type": "code",
   "execution_count": 2,
   "metadata": {},
   "outputs": [
    {
     "data": {
      "text/plain": [
       "ProductID    0\n",
       "UserID       0\n",
       "Rating       0\n",
       "Text         0\n",
       "dtype: int64"
      ]
     },
     "execution_count": 2,
     "metadata": {},
     "output_type": "execute_result"
    }
   ],
   "source": [
    "rating.isnull().sum()"
   ]
  },
  {
   "cell_type": "code",
   "execution_count": 3,
   "metadata": {},
   "outputs": [],
   "source": [
    "import nltk\n",
    "from nltk.tokenize import word_tokenize\n",
    "from nltk.tokenize import sent_tokenize\n",
    "from textblob import TextBlob\n",
    "from nltk.corpus import stopwords"
   ]
  },
  {
   "cell_type": "code",
   "execution_count": 4,
   "metadata": {},
   "outputs": [],
   "source": [
    "stop_words = set(stopwords.words())\n",
    "def polarity(text):\n",
    "    blob = TextBlob(text)\n",
    "    words = blob.words\n",
    "    sentence = [word for word in words if word not in stop_words]\n",
    "    sent = \" \".join(sentence)\n",
    "    blob2 = TextBlob(sent)\n",
    "    return blob2.sentiment.polarity"
   ]
  },
  {
   "cell_type": "code",
   "execution_count": 8,
   "metadata": {},
   "outputs": [
    {
     "data": {
      "text/html": [
       "<div>\n",
       "<style scoped>\n",
       "    .dataframe tbody tr th:only-of-type {\n",
       "        vertical-align: middle;\n",
       "    }\n",
       "\n",
       "    .dataframe tbody tr th {\n",
       "        vertical-align: top;\n",
       "    }\n",
       "\n",
       "    .dataframe thead th {\n",
       "        text-align: right;\n",
       "    }\n",
       "</style>\n",
       "<table border=\"1\" class=\"dataframe\">\n",
       "  <thead>\n",
       "    <tr style=\"text-align: right;\">\n",
       "      <th></th>\n",
       "      <th>ProductID</th>\n",
       "      <th>UserID</th>\n",
       "      <th>Rating</th>\n",
       "      <th>Text</th>\n",
       "      <th>Polarity</th>\n",
       "      <th>Sentiment</th>\n",
       "    </tr>\n",
       "  </thead>\n",
       "  <tbody>\n",
       "    <tr>\n",
       "      <th>629</th>\n",
       "      <td>823</td>\n",
       "      <td>B08GWV3SM6</td>\n",
       "      <td>1</td>\n",
       "      <td>I placed order 4+1 soaps.But I have received w...</td>\n",
       "      <td>0.000000</td>\n",
       "      <td>Neutral</td>\n",
       "    </tr>\n",
       "    <tr>\n",
       "      <th>630</th>\n",
       "      <td>823</td>\n",
       "      <td>B08GWV3SM6</td>\n",
       "      <td>3</td>\n",
       "      <td>The soap is ok for bathing, no scent at all, m...</td>\n",
       "      <td>0.266667</td>\n",
       "      <td>Positive</td>\n",
       "    </tr>\n",
       "    <tr>\n",
       "      <th>631</th>\n",
       "      <td>847</td>\n",
       "      <td>B08GWV3SM6</td>\n",
       "      <td>5</td>\n",
       "      <td>For a long time I was searching for Indian soa...</td>\n",
       "      <td>-0.025000</td>\n",
       "      <td>Negative</td>\n",
       "    </tr>\n",
       "    <tr>\n",
       "      <th>632</th>\n",
       "      <td>910</td>\n",
       "      <td>AVph0EeEilAPnD_x9myq</td>\n",
       "      <td>3</td>\n",
       "      <td>Good but not great</td>\n",
       "      <td>0.750000</td>\n",
       "      <td>Positive</td>\n",
       "    </tr>\n",
       "    <tr>\n",
       "      <th>633</th>\n",
       "      <td>333</td>\n",
       "      <td>AVqkIdntQMlgsOJE6fuB</td>\n",
       "      <td>5</td>\n",
       "      <td>Quick,easy to make &amp; tasty too.</td>\n",
       "      <td>0.383333</td>\n",
       "      <td>Positive</td>\n",
       "    </tr>\n",
       "  </tbody>\n",
       "</table>\n",
       "</div>"
      ],
      "text/plain": [
       "     ProductID                UserID  Rating  \\\n",
       "629        823            B08GWV3SM6       1   \n",
       "630        823            B08GWV3SM6       3   \n",
       "631        847            B08GWV3SM6       5   \n",
       "632        910  AVph0EeEilAPnD_x9myq       3   \n",
       "633        333  AVqkIdntQMlgsOJE6fuB       5   \n",
       "\n",
       "                                                  Text  Polarity Sentiment  \n",
       "629  I placed order 4+1 soaps.But I have received w...  0.000000   Neutral  \n",
       "630  The soap is ok for bathing, no scent at all, m...  0.266667  Positive  \n",
       "631  For a long time I was searching for Indian soa... -0.025000  Negative  \n",
       "632                                 Good but not great  0.750000  Positive  \n",
       "633                    Quick,easy to make & tasty too.  0.383333  Positive  "
      ]
     },
     "execution_count": 8,
     "metadata": {},
     "output_type": "execute_result"
    }
   ],
   "source": [
    "apply = {\"Rating\": \"mean\", \"Text\": lambda x: \".\".join(x)}\n",
    "rating[\"Polarity\"] = rating[\"Text\"].apply(polarity)\n",
    "rating.loc[rating[\"Polarity\"] > 0, \"Sentiment\"] = \"Positive\"\n",
    "rating.loc[rating[\"Polarity\"] < 0, \"Sentiment\"] = \"Negative\"\n",
    "rating.loc[rating[\"Polarity\"] == 0, \"Sentiment\"] = \"Neutral\"\n",
    "rating.tail()"
   ]
  },
  {
   "cell_type": "code",
   "execution_count": 10,
   "metadata": {},
   "outputs": [
    {
     "name": "stdout",
     "output_type": "stream",
     "text": [
      "Counter({'NN': 25, 'TO': 11, 'PRP': 11, 'IN': 10, 'NNP': 9, 'VBD': 9, 'DT': 8, 'VB': 7, ',': 6, 'PRP$': 5, 'VBG': 5, 'RB': 5, '.': 5, 'JJ': 5, 'CD': 4, 'VBN': 2, 'WRB': 1, 'RP': 1, 'VBZ': 1, 'FW': 1, '(': 1, ')': 1, 'JJS': 1, 'VBP': 1, ':': 1, 'JJR': 1, 'NNS': 1, 'WDT': 1, 'CC': 1})\n"
     ]
    }
   ],
   "source": [
    "import nltk\n",
    "from textblob import TextBlob\n",
    "from collections import Counter\n",
    "text = \"\"\"On 16 November 2013, my cricketing journey finally came to an end at the Wankhede Stadium. After\n",
    "somehow managing to complete my farewell speech, I was having a conversation with my family,\n",
    "trying to soak in every moment, when my team-mate Virat Kohli walked up to me. He said, ‘Paaji\n",
    "aapne kaha tha aap ko yaad dilane ke liye ki aapko pitch pe jana hain.’ (You asked me to remind\n",
    "you that you had to go to the pitch one final time.) To be honest, I hadn’t forgotten; I was just trying to\n",
    "put the moment off for a little longer. It was to be my final visit to the 22 yards that had nurtured and\n",
    "cared for me for so long.\"\"\"\n",
    "tokens = nltk.word_tokenize(text)\n",
    "tags = nltk.pos_tag(tokens)\n",
    "counts = Counter(tag for word, tag in tags)\n",
    "print(counts)"
   ]
  },
  {
   "cell_type": "code",
   "execution_count": 11,
   "metadata": {},
   "outputs": [
    {
     "data": {
      "image/png": "[encoded data removed]",
      "text/plain": [
       "<Figure size 432x288 with 1 Axes>"
      ]
     },
     "metadata": {
      "needs_background": "light"
     },
     "output_type": "display_data"
    },
    {
     "data": {
      "text/plain": [
       "<AxesSubplot:xlabel='Samples', ylabel='Counts'>"
      ]
     },
     "execution_count": 11,
     "metadata": {},
     "output_type": "execute_result"
    }
   ],
   "source": [
    "words = nltk.word_tokenize(text)\n",
    "fre_dist = nltk.FreqDist(text)\n",
    "fre_dist.plot()"
   ]
  },
  {
   "cell_type": "code",
   "execution_count": 13,
   "metadata": {},
   "outputs": [
    {
     "name": "stdout",
     "output_type": "stream",
     "text": [
      "[('On', '16'), ('16', 'November'), ('November', '2013'), ('2013', ','), (',', 'my'), ('my', 'cricketing'), ('cricketing', 'journey'), ('journey', 'finally'), ('finally', 'came'), ('came', 'to'), ('to', 'an'), ('an', 'end'), ('end', 'at'), ('at', 'the'), ('the', 'Wankhede'), ('Wankhede', 'Stadium'), ('Stadium', '.'), ('.', 'After'), ('After', 'somehow'), ('somehow', 'managing'), ('managing', 'to'), ('to', 'complete'), ('complete', 'my'), ('my', 'farewell'), ('farewell', 'speech'), ('speech', ','), (',', 'I'), ('I', 'was'), ('was', 'having'), ('having', 'a'), ('a', 'conversation'), ('conversation', 'with'), ('with', 'my'), ('my', 'family'), ('family', ','), (',', 'trying'), ('trying', 'to'), ('to', 'soak'), ('soak', 'in'), ('in', 'every'), ('every', 'moment'), ('moment', ','), (',', 'when'), ('when', 'my'), ('my', 'team-mate'), ('team-mate', 'Virat'), ('Virat', 'Kohli'), ('Kohli', 'walked'), ('walked', 'up'), ('up', 'to'), ('to', 'me'), ('me', '.'), ('.', 'He'), ('He', 'said'), ('said', ','), (',', '‘'), ('‘', 'Paaji'), ('Paaji', 'aapne'), ('aapne', 'kaha'), ('kaha', 'tha'), ('tha', 'aap'), ('aap', 'ko'), ('ko', 'yaad'), ('yaad', 'dilane'), ('dilane', 'ke'), ('ke', 'liye'), ('liye', 'ki'), ('ki', 'aapko'), ('aapko', 'pitch'), ('pitch', 'pe'), ('pe', 'jana'), ('jana', 'hain.'), ('hain.', '’'), ('’', '('), ('(', 'You'), ('You', 'asked'), ('asked', 'me'), ('me', 'to'), ('to', 'remind'), ('remind', 'you'), ('you', 'that'), ('that', 'you'), ('you', 'had'), ('had', 'to'), ('to', 'go'), ('go', 'to'), ('to', 'the'), ('the', 'pitch'), ('pitch', 'one'), ('one', 'final'), ('final', 'time'), ('time', '.'), ('.', ')'), (')', 'To'), ('To', 'be'), ('be', 'honest'), ('honest', ','), (',', 'I'), ('I', 'hadn'), ('hadn', '’'), ('’', 't'), ('t', 'forgotten'), ('forgotten', ';'), (';', 'I'), ('I', 'was'), ('was', 'just'), ('just', 'trying'), ('trying', 'to'), ('to', 'put'), ('put', 'the'), ('the', 'moment'), ('moment', 'off'), ('off', 'for'), ('for', 'a'), ('a', 'little'), ('little', 'longer'), ('longer', '.'), ('.', 'It'), ('It', 'was'), ('was', 'to'), ('to', 'be'), ('be', 'my'), ('my', 'final'), ('final', 'visit'), ('visit', 'to'), ('to', 'the'), ('the', '22'), ('22', 'yards'), ('yards', 'that'), ('that', 'had'), ('had', 'nurtured'), ('nurtured', 'and'), ('and', 'cared'), ('cared', 'for'), ('for', 'me'), ('me', 'for'), ('for', 'so'), ('so', 'long'), ('long', '.')]\n"
     ]
    }
   ],
   "source": [
    "tokens = nltk.word_tokenize(text)\n",
    "output = list(nltk.bigrams(tokens))\n",
    "print(output)"
   ]
  },
  {
   "cell_type": "code",
   "execution_count": 14,
   "metadata": {},
   "outputs": [
    {
     "name": "stdout",
     "output_type": "stream",
     "text": [
      "[('On', '16', 'November'), ('16', 'November', '2013'), ('November', '2013', ','), ('2013', ',', 'my'), (',', 'my', 'cricketing'), ('my', 'cricketing', 'journey'), ('cricketing', 'journey', 'finally'), ('journey', 'finally', 'came'), ('finally', 'came', 'to'), ('came', 'to', 'an'), ('to', 'an', 'end'), ('an', 'end', 'at'), ('end', 'at', 'the'), ('at', 'the', 'Wankhede'), ('the', 'Wankhede', 'Stadium'), ('Wankhede', 'Stadium', '.'), ('Stadium', '.', 'After'), ('.', 'After', 'somehow'), ('After', 'somehow', 'managing'), ('somehow', 'managing', 'to'), ('managing', 'to', 'complete'), ('to', 'complete', 'my'), ('complete', 'my', 'farewell'), ('my', 'farewell', 'speech'), ('farewell', 'speech', ','), ('speech', ',', 'I'), (',', 'I', 'was'), ('I', 'was', 'having'), ('was', 'having', 'a'), ('having', 'a', 'conversation'), ('a', 'conversation', 'with'), ('conversation', 'with', 'my'), ('with', 'my', 'family'), ('my', 'family', ','), ('family', ',', 'trying'), (',', 'trying', 'to'), ('trying', 'to', 'soak'), ('to', 'soak', 'in'), ('soak', 'in', 'every'), ('in', 'every', 'moment'), ('every', 'moment', ','), ('moment', ',', 'when'), (',', 'when', 'my'), ('when', 'my', 'team-mate'), ('my', 'team-mate', 'Virat'), ('team-mate', 'Virat', 'Kohli'), ('Virat', 'Kohli', 'walked'), ('Kohli', 'walked', 'up'), ('walked', 'up', 'to'), ('up', 'to', 'me'), ('to', 'me', '.'), ('me', '.', 'He'), ('.', 'He', 'said'), ('He', 'said', ','), ('said', ',', '‘'), (',', '‘', 'Paaji'), ('‘', 'Paaji', 'aapne'), ('Paaji', 'aapne', 'kaha'), ('aapne', 'kaha', 'tha'), ('kaha', 'tha', 'aap'), ('tha', 'aap', 'ko'), ('aap', 'ko', 'yaad'), ('ko', 'yaad', 'dilane'), ('yaad', 'dilane', 'ke'), ('dilane', 'ke', 'liye'), ('ke', 'liye', 'ki'), ('liye', 'ki', 'aapko'), ('ki', 'aapko', 'pitch'), ('aapko', 'pitch', 'pe'), ('pitch', 'pe', 'jana'), ('pe', 'jana', 'hain.'), ('jana', 'hain.', '’'), ('hain.', '’', '('), ('’', '(', 'You'), ('(', 'You', 'asked'), ('You', 'asked', 'me'), ('asked', 'me', 'to'), ('me', 'to', 'remind'), ('to', 'remind', 'you'), ('remind', 'you', 'that'), ('you', 'that', 'you'), ('that', 'you', 'had'), ('you', 'had', 'to'), ('had', 'to', 'go'), ('to', 'go', 'to'), ('go', 'to', 'the'), ('to', 'the', 'pitch'), ('the', 'pitch', 'one'), ('pitch', 'one', 'final'), ('one', 'final', 'time'), ('final', 'time', '.'), ('time', '.', ')'), ('.', ')', 'To'), (')', 'To', 'be'), ('To', 'be', 'honest'), ('be', 'honest', ','), ('honest', ',', 'I'), (',', 'I', 'hadn'), ('I', 'hadn', '’'), ('hadn', '’', 't'), ('’', 't', 'forgotten'), ('t', 'forgotten', ';'), ('forgotten', ';', 'I'), (';', 'I', 'was'), ('I', 'was', 'just'), ('was', 'just', 'trying'), ('just', 'trying', 'to'), ('trying', 'to', 'put'), ('to', 'put', 'the'), ('put', 'the', 'moment'), ('the', 'moment', 'off'), ('moment', 'off', 'for'), ('off', 'for', 'a'), ('for', 'a', 'little'), ('a', 'little', 'longer'), ('little', 'longer', '.'), ('longer', '.', 'It'), ('.', 'It', 'was'), ('It', 'was', 'to'), ('was', 'to', 'be'), ('to', 'be', 'my'), ('be', 'my', 'final'), ('my', 'final', 'visit'), ('final', 'visit', 'to'), ('visit', 'to', 'the'), ('to', 'the', '22'), ('the', '22', 'yards'), ('22', 'yards', 'that'), ('yards', 'that', 'had'), ('that', 'had', 'nurtured'), ('had', 'nurtured', 'and'), ('nurtured', 'and', 'cared'), ('and', 'cared', 'for'), ('cared', 'for', 'me'), ('for', 'me', 'for'), ('me', 'for', 'so'), ('for', 'so', 'long'), ('so', 'long', '.')]\n"
     ]
    }
   ],
   "source": [
    "tokens = nltk.word_tokenize(text)\n",
    "output = list(nltk.trigrams(tokens))\n",
    "print(output)"
   ]
  },
  {
   "cell_type": "code",
   "execution_count": null,
   "metadata": {},
   "outputs": [],
   "source": []
  }
 ],
 "metadata": {
  "kernelspec": {
   "display_name": "Python 3",
   "language": "python",
   "name": "python3"
  },
  "language_info": {
   "codemirror_mode": {
    "name": "ipython",
    "version": 3
   },
   "file_extension": ".py",
   "mimetype": "text/x-python",
   "name": "python",
   "nbconvert_exporter": "python",
   "pygments_lexer": "ipython3",
   "version": "3.8.5"
  }
 },
 "nbformat": 4,
 "nbformat_minor": 4
}

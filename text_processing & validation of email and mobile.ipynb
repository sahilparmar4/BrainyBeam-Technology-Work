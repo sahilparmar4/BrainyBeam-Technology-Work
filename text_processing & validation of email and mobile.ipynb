{
 "cells": [
  {
   "cell_type": "code",
   "execution_count": 1,
   "metadata": {},
   "outputs": [
    {
     "name": "stdout",
     "output_type": "stream",
     "text": [
      "['Hello', ',', 'how', 'are', 'you', '?', 'I', 'am', 'fine']\n"
     ]
    }
   ],
   "source": [
    "from nltk.tokenize import word_tokenize\n",
    "text = \"Hello, how are you? I am fine\"\n",
    "print(word_tokenize(text))"
   ]
  },
  {
   "cell_type": "code",
   "execution_count": 2,
   "metadata": {},
   "outputs": [
    {
     "name": "stdout",
     "output_type": "stream",
     "text": [
      "['Hello, how are you?', 'I am fine']\n"
     ]
    }
   ],
   "source": [
    "from nltk.tokenize import sent_tokenize\n",
    "text = \"Hello, how are you? I am fine\"\n",
    "print(sent_tokenize(text))"
   ]
  },
  {
   "cell_type": "code",
   "execution_count": 4,
   "metadata": {},
   "outputs": [
    {
     "name": "stdout",
     "output_type": "stream",
     "text": [
      "['Hello', ',', '?', 'I', 'fine']\n"
     ]
    }
   ],
   "source": [
    "from nltk.tokenize import word_tokenize\n",
    "from nltk.corpus import stopwords\n",
    "text = \"Hello, how are you? I am fine\"\n",
    "token = word_tokenize(text)\n",
    "sw = [i for i in token if not i in stopwords.words()]\n",
    "print(sw)"
   ]
  },
  {
   "cell_type": "code",
   "execution_count": 12,
   "metadata": {},
   "outputs": [
    {
     "name": "stdout",
     "output_type": "stream",
     "text": [
      "False\n"
     ]
    }
   ],
   "source": [
    "import re\n",
    "s = \"hello\"\n",
    "s1 = \"7Dhoni\"\n",
    "pattern = \"h....\"\n",
    "pattern2 = \"h...o$\"\n",
    "pattern1 = \"[a-z]\"\n",
    "r = re.match(pattern1, s1)\n",
    "if r:\n",
    "    print(True)\n",
    "else:\n",
    "    print(False)"
   ]
  },
  {
   "cell_type": "code",
   "execution_count": 3,
   "metadata": {},
   "outputs": [
    {
     "name": "stdout",
     "output_type": "stream",
     "text": [
      "Enter mail: sahil4parmar@gmail.com\n",
      "valid email\n"
     ]
    }
   ],
   "source": [
    "import re\n",
    "mail = input(\"Enter mail: \")\n",
    "pattern = \"\\w+@.\\w+\"\n",
    "r = re.match(pattern, mail)\n",
    "if r:\n",
    "    print(\"valid email\")\n",
    "else:\n",
    "    print(\"invalid email\")"
   ]
  },
  {
   "cell_type": "code",
   "execution_count": 67,
   "metadata": {},
   "outputs": [
    {
     "name": "stdout",
     "output_type": "stream",
     "text": [
      "Enter county code: +91\n",
      "Enter mobile no: 9601364833\n",
      "Yes, it is valid for India.\n",
      "Valid mobile number\n"
     ]
    }
   ],
   "source": [
    "country_code = input(\"Enter county code: \")\n",
    "mobile = input(\"Enter mobile no: \")\n",
    "\n",
    "pattern1 = \"\\+91?\"\n",
    "pattern2 = \"\\d{10}\"\n",
    "\n",
    "r1 = re.match(pattern1, country_code)\n",
    "r2 = re.match(pattern2, mobile)\n",
    "\n",
    "if r1:\n",
    "    print(\"Yes, it is valid for India.\")\n",
    "else:\n",
    "    print(\"No, it is not valid for India.\")\n",
    "\n",
    "if r2:\n",
    "     print(\"Valid mobile number\")\n",
    "else:\n",
    "     print(\"Invalid mobile number\")"
   ]
  },
  {
   "cell_type": "code",
   "execution_count": 17,
   "metadata": {},
   "outputs": [],
   "source": [
    "from textblob import TextBlob"
   ]
  },
  {
   "cell_type": "code",
   "execution_count": 18,
   "metadata": {},
   "outputs": [
    {
     "name": "stdout",
     "output_type": "stream",
     "text": [
      "On 16 November 2013, my cricketing journey finally came to an end at the Wankhede Stadium. After\n",
      "somehow managing to complete my farewell speech, I was having a conversation with my family,\n",
      "trying to soak in every moment, when my team-mate Virat Kohli walked up to me. He said, ‘Paaji\n",
      "aapne kaha tha aap ko yaad dilane ke liye ki aapko pitch pe jana hain.’ (You asked me to remind\n",
      "you that you had to go to the pitch one final time.) To be honest, I hadn’t forgotten; I was just trying to\n",
      "put the moment off for a little longer. It was to be my final visit to the 22 yards that had nurtured and\n",
      "cared for me for so long.\n",
      "[('On', 'IN'), ('16', 'CD'), ('November', 'NNP'), ('2013', 'CD'), ('my', 'PRP$'), ('cricketing', 'VBG'), ('journey', 'NN'), ('finally', 'RB'), ('came', 'VBD'), ('to', 'TO'), ('an', 'DT'), ('end', 'NN'), ('at', 'IN'), ('the', 'DT'), ('Wankhede', 'NNP'), ('Stadium', 'NNP'), ('After', 'IN'), ('somehow', 'RB'), ('managing', 'VBG'), ('to', 'TO'), ('complete', 'VB'), ('my', 'PRP$'), ('farewell', 'NN'), ('speech', 'NN'), ('I', 'PRP'), ('was', 'VBD'), ('having', 'VBG'), ('a', 'DT'), ('conversation', 'NN'), ('with', 'IN'), ('my', 'PRP$'), ('family', 'NN'), ('trying', 'VBG'), ('to', 'TO'), ('soak', 'VB'), ('in', 'IN'), ('every', 'DT'), ('moment', 'NN'), ('when', 'WRB'), ('my', 'PRP$'), ('team-mate', 'JJ'), ('Virat', 'NNP'), ('Kohli', 'NNP'), ('walked', 'VBD'), ('up', 'RP'), ('to', 'TO'), ('me', 'PRP'), ('He', 'PRP'), ('said', 'VBD'), ('‘', 'NNP'), ('Paaji', 'NNP'), ('aapne', 'VBZ'), ('kaha', 'FW'), ('tha', 'NN'), ('aap', 'NN'), ('ko', 'NN'), ('yaad', 'NNP'), ('dilane', 'NN'), ('ke', 'NN'), ('liye', 'NN'), ('ki', 'NN'), ('aapko', 'NN'), ('pitch', 'NN'), ('pe', 'NN'), ('jana', 'NN'), ('hain.', 'NN'), ('’', 'NNP'), ('You', 'PRP'), ('asked', 'VBD'), ('me', 'PRP'), ('to', 'TO'), ('remind', 'VB'), ('you', 'PRP'), ('that', 'IN'), ('you', 'PRP'), ('had', 'VBD'), ('to', 'TO'), ('go', 'VB'), ('to', 'TO'), ('the', 'DT'), ('pitch', 'NN'), ('one', 'CD'), ('final', 'JJ'), ('time', 'NN'), ('To', 'TO'), ('be', 'VB'), ('honest', 'JJS'), ('I', 'PRP'), ('hadn', 'VBP'), ('’', 'JJ'), ('t', 'NN'), ('forgotten', 'NN'), ('I', 'PRP'), ('was', 'VBD'), ('just', 'RB'), ('trying', 'VBG'), ('to', 'TO'), ('put', 'VB'), ('the', 'DT'), ('moment', 'NN'), ('off', 'IN'), ('for', 'IN'), ('a', 'DT'), ('little', 'JJ'), ('longer', 'JJR'), ('It', 'PRP'), ('was', 'VBD'), ('to', 'TO'), ('be', 'VB'), ('my', 'PRP$'), ('final', 'JJ'), ('visit', 'NN'), ('to', 'TO'), ('the', 'DT'), ('22', 'CD'), ('yards', 'NNS'), ('that', 'WDT'), ('had', 'VBD'), ('nurtured', 'VBN'), ('and', 'CC'), ('cared', 'VBN'), ('for', 'IN'), ('me', 'PRP'), ('for', 'IN'), ('so', 'RB'), ('long', 'RB')]\n"
     ]
    }
   ],
   "source": [
    "text = \"\"\"On 16 November 2013, my cricketing journey finally came to an end at the Wankhede Stadium. After\n",
    "somehow managing to complete my farewell speech, I was having a conversation with my family,\n",
    "trying to soak in every moment, when my team-mate Virat Kohli walked up to me. He said, ‘Paaji\n",
    "aapne kaha tha aap ko yaad dilane ke liye ki aapko pitch pe jana hain.’ (You asked me to remind\n",
    "you that you had to go to the pitch one final time.) To be honest, I hadn’t forgotten; I was just trying to\n",
    "put the moment off for a little longer. It was to be my final visit to the 22 yards that had nurtured and\n",
    "cared for me for so long.\"\"\"\n",
    "blob = TextBlob(text)\n",
    "print(blob)\n",
    "print(blob.tags)"
   ]
  },
  {
   "cell_type": "code",
   "execution_count": 20,
   "metadata": {},
   "outputs": [
    {
     "name": "stdout",
     "output_type": "stream",
     "text": [
      "['november', 'wankhede', 'farewell speech', 'virat kohli', 'paaji', 'aapne kaha tha aap ko yaad dilane ke liye ki aapko pitch pe jana hain. ’', 'final time', 'hadn ’ t forgotten', 'final visit']\n"
     ]
    }
   ],
   "source": [
    "print(blob.noun_phrases)"
   ]
  },
  {
   "cell_type": "code",
   "execution_count": 21,
   "metadata": {},
   "outputs": [
    {
     "name": "stdout",
     "output_type": "stream",
     "text": [
      "0.0\n",
      "0.1\n",
      "0.0\n",
      "0.20625\n",
      "-0.025\n"
     ]
    }
   ],
   "source": [
    "for sentence in blob.sentences:\n",
    "    print(sentence.sentiment.polarity)"
   ]
  },
  {
   "cell_type": "code",
   "execution_count": null,
   "metadata": {},
   "outputs": [],
   "source": []
  }
 ],
 "metadata": {
  "kernelspec": {
   "display_name": "Python 3",
   "language": "python",
   "name": "python3"
  },
  "language_info": {
   "codemirror_mode": {
    "name": "ipython",
    "version": 3
   },
   "file_extension": ".py",
   "mimetype": "text/x-python",
   "name": "python",
   "nbconvert_exporter": "python",
   "pygments_lexer": "ipython3",
   "version": "3.8.5"
  }
 },
 "nbformat": 4,
 "nbformat_minor": 4
}
